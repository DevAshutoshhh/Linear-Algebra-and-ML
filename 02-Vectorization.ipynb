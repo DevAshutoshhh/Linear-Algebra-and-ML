{
 "cells": [
  {
   "cell_type": "code",
   "execution_count": 1,
   "id": "71e73ace",
   "metadata": {},
   "outputs": [],
   "source": [
    "import numpy as np    \n",
    "import time"
   ]
  },
  {
   "cell_type": "code",
   "execution_count": 2,
   "id": "db8f49c0",
   "metadata": {},
   "outputs": [],
   "source": [
    "def dot_fn(a, b): # Computing the dot product of two vectors using a for loop\n",
    "    if a.shape[0] != b.shape[0]:\n",
    "        print(\"Enter vectors of the same size\")\n",
    "        return\n",
    "    sum = 0\n",
    "    for i in range(a.shape[0]):\n",
    "        sum = sum + a[i] * b[i]\n",
    "    return sum"
   ]
  },
  {
   "cell_type": "code",
   "execution_count": 3,
   "id": "63819071",
   "metadata": {},
   "outputs": [
    {
     "name": "stdout",
     "output_type": "stream",
     "text": [
      "Enter vectors of the same size\n"
     ]
    }
   ],
   "source": [
    "a = np.array([1, 2, 3])\n",
    "b = np.array([-1, 4, 3, 2])\n",
    "dot_fn(a, b)"
   ]
  },
  {
   "cell_type": "code",
   "execution_count": 4,
   "id": "e626aaba",
   "metadata": {},
   "outputs": [
    {
     "name": "stdout",
     "output_type": "stream",
     "text": [
      "dot_fn(a, b) =  24\n"
     ]
    }
   ],
   "source": [
    "# Dot product of two vectors using dot_fn\n",
    "a = np.array([1, 2, 3, 4])\n",
    "b = np.array([-1, 4, 3, 2])\n",
    "c = dot_fn(a, b)\n",
    "print(\"dot_fn(a, b) = \",c)"
   ]
  },
  {
   "cell_type": "code",
   "execution_count": 5,
   "id": "b44d3c75",
   "metadata": {},
   "outputs": [
    {
     "name": "stdout",
     "output_type": "stream",
     "text": [
      "np.dot(a, b) =  24\n",
      "np.dot(b, a) =  24\n"
     ]
    }
   ],
   "source": [
    "# Dot product of two vectors using numpy dot function\n",
    "a = np.array([1, 2, 3, 4])\n",
    "b = np.array([-1, 4, 3, 2])\n",
    "d1 = np.dot(a, b)\n",
    "print(\"np.dot(a, b) = \",d1) \n",
    "d2 = np.dot(b, a)\n",
    "print(\"np.dot(b, a) = \",d2) "
   ]
  },
  {
   "cell_type": "code",
   "execution_count": 8,
   "id": "874b30ee",
   "metadata": {},
   "outputs": [
    {
     "name": "stdout",
     "output_type": "stream",
     "text": [
      "Shape of a:  (10000000,)\n",
      "Shape of b:  (10000000,)\n",
      "np.dot(a, b) =  -39561\n",
      "Vectorized version duration:  0.015005111694335938 sec\n",
      "dot_fn(a, b) =  -39561\n",
      "Loop version duration:  2.4105827808380127 sec\n",
      "\n",
      "Vectorized code is 160.65 times faster than the for loop code.\n"
     ]
    }
   ],
   "source": [
    "size = 10**7 # Length of the vectors\n",
    "\n",
    "# Set random seed for reproducibility\n",
    "np.random.seed(1)\n",
    "\n",
    "a = np.random.randint(-10, 11, size)  # very large arrays\n",
    "b = np.random.randint(-10, 11, size)\n",
    "print(\"Shape of a: \",a.shape)\n",
    "print(\"Shape of b: \",b.shape)\n",
    "\n",
    "start_time = time.time()  # capture start time\n",
    "c = np.dot(a, b)\n",
    "end_time = time.time()  # capture end time\n",
    "dot_time = end_time - start_time\n",
    "\n",
    "print(\"np.dot(a, b) = \",c)\n",
    "print(\"Vectorized version duration: \", dot_time,\"sec\")\n",
    "\n",
    "start_time = time.time()  # capture start time\n",
    "c = dot_fn(a,b)\n",
    "end_time = time.time()  # capture end time\n",
    "loop_time = end_time - start_time\n",
    "\n",
    "print(\"dot_fn(a, b) = \",c)\n",
    "print(\"Loop version duration: \", loop_time,\"sec\")\n",
    "\n",
    "\n",
    "speedup = loop_time / dot_time\n",
    "print(f\"\\nVectorized code is {speedup:.2f} times faster than the for loop code.\")"
   ]
  },
  {
   "cell_type": "code",
   "execution_count": 7,
   "id": "4419ca92",
   "metadata": {},
   "outputs": [
    {
     "name": "stdout",
     "output_type": "stream",
     "text": [
      "BC = \n",
      " [[ 8  5]\n",
      " [14  5]]\n",
      "CB = \n",
      " [[7 9]\n",
      " [8 6]]\n"
     ]
    }
   ],
   "source": [
    "# Numpy dot function can also be used for matrix multiplication\n",
    "\n",
    "B = np.array([[1, 2], [3, 1]])\n",
    "C = np.array([[4, 1], [2, 2]])\n",
    "\n",
    "ProdBC = np.dot(B,C)\n",
    "ProdCB = np.dot(C,B)\n",
    "\n",
    "print(\"BC = \\n\",ProdBC)\n",
    "print(\"CB = \\n\",ProdCB)"
   ]
  }
 ],
 "metadata": {
  "kernelspec": {
   "display_name": "Python 3 (ipykernel)",
   "language": "python",
   "name": "python3"
  },
  "language_info": {
   "codemirror_mode": {
    "name": "ipython",
    "version": 3
   },
   "file_extension": ".py",
   "mimetype": "text/x-python",
   "name": "python",
   "nbconvert_exporter": "python",
   "pygments_lexer": "ipython3",
   "version": "3.9.13"
  }
 },
 "nbformat": 4,
 "nbformat_minor": 5
}
